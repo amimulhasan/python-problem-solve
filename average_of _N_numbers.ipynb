{
 "cells": [
  {
   "cell_type": "code",
   "execution_count": 1,
   "id": "66b75355",
   "metadata": {},
   "outputs": [
    {
     "name": "stdout",
     "output_type": "stream",
     "text": [
      "How many number are take as input:2\n",
      "Enter the number10\n",
      "Enter the number15\n",
      "Total average is:  12.5\n"
     ]
    }
   ],
   "source": [
    "a=int(input(\"How many number are take as input:\"))\n",
    "\n",
    "sum=0\n",
    "num=[]\n",
    "\n",
    "for i in range(a):\n",
    "    n=int(input('Enter the number'))\n",
    "    num.append(n)\n",
    "    sum+=num[i]\n",
    "    avg=sum/a\n",
    "print('Total average is: ',avg)\n",
    "\n",
    "\n",
    "\n",
    "\n",
    "\n",
    "\n",
    "\n",
    "\n",
    "\n"
   ]
  },
  {
   "cell_type": "code",
   "execution_count": 8,
   "id": "cdcee668",
   "metadata": {},
   "outputs": [
    {
     "name": "stdout",
     "output_type": "stream",
     "text": [
      "How many number are take as input:100\n",
      "Total average is:  2.5\n"
     ]
    }
   ],
   "source": [
    "b=int(input(\"How many number are take as input:\"))\n",
    "\n",
    "sum=0\n",
    "num=[]\n",
    "\n",
    "for j in range(b):\n",
    "    \n",
    "    num.append(j)\n",
    "    sum+=num[j]\n",
    "    avge=sum/b\n",
    "print('Total average is: ',avge)\n"
   ]
  },
  {
   "cell_type": "code",
   "execution_count": null,
   "id": "4938def2",
   "metadata": {},
   "outputs": [],
   "source": []
  },
  {
   "cell_type": "code",
   "execution_count": null,
   "id": "7bc8033b",
   "metadata": {},
   "outputs": [],
   "source": []
  }
 ],
 "metadata": {
  "kernelspec": {
   "display_name": "Python 3 (ipykernel)",
   "language": "python",
   "name": "python3"
  },
  "language_info": {
   "codemirror_mode": {
    "name": "ipython",
    "version": 3
   },
   "file_extension": ".py",
   "mimetype": "text/x-python",
   "name": "python",
   "nbconvert_exporter": "python",
   "pygments_lexer": "ipython3",
   "version": "3.10.9"
  }
 },
 "nbformat": 4,
 "nbformat_minor": 5
}
