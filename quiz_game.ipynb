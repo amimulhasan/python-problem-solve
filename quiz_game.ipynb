{
 "cells": [
  {
   "cell_type": "code",
   "execution_count": null,
   "id": "c5e7d46c",
   "metadata": {},
   "outputs": [
    {
     "name": "stdout",
     "output_type": "stream",
     "text": [
      "Welcome to my computer quiz\n"
     ]
    }
   ],
   "source": [
    "print('Welcome to my computer quiz')\n",
    "\n",
    "playing=input('Do you want to playing ')\n",
    "\n",
    "if playing.lower() !='yes':\n",
    "    quit()\n",
    "print(\"okay, Let's play\")  \n",
    "\n",
    "score=0\n",
    "\n",
    "answer=input(\"what does cpu stand for? \") \n",
    "if answer.lower() =='center processing unit':\n",
    "    print('correct!')\n",
    "    score +=1\n",
    "else:\n",
    "    print('incorrect')\n",
    "    \n",
    "    \n",
    "answer=input('what does GPU stand for? ')\n",
    "if answer.lower() ==\"graphic processing unit\":\n",
    "    print('correct!')\n",
    "    score +=1\n",
    "else:\n",
    "    print('incorrect')\n",
    "    \n",
    "    \n",
    "    \n",
    "answer=input('what doed RM stand for? ')\n",
    "if answer.lower() ==\"random access memory\":\n",
    "    print(\"Correct!\")\n",
    "    score +=1\n",
    "else:\n",
    "    print('incorrect')\n",
    "    \n",
    "    \n",
    "    \n",
    "answer=input('what does ip stand for? ')\n",
    "if answer.lower() =='internet protocal':\n",
    "    print(\"correct!\")\n",
    "    score+=1\n",
    "else:\n",
    "    print('incorrect')\n",
    "    \n",
    "    \n",
    "print(\"you got \" +str(score)+ \"questions correct\")\n",
    "print(\"you got \"+str((score)/4)*100+ \"%.\")\n",
    "\n",
    "\n",
    "\n",
    "\n",
    "\n",
    "\n",
    "\n",
    "\n",
    "\n",
    "\n",
    "\n",
    "\n",
    "\n",
    "\n",
    "\n",
    "\n",
    "\n",
    "\n",
    "\n",
    "\n",
    "\n",
    "\n",
    "\n",
    "\n",
    "\n",
    "\n",
    "\n",
    "\n",
    "\n",
    "\n"
   ]
  },
  {
   "cell_type": "code",
   "execution_count": null,
   "id": "739f0de5",
   "metadata": {},
   "outputs": [],
   "source": []
  }
 ],
 "metadata": {
  "kernelspec": {
   "display_name": "Python 3 (ipykernel)",
   "language": "python",
   "name": "python3"
  },
  "language_info": {
   "codemirror_mode": {
    "name": "ipython",
    "version": 3
   },
   "file_extension": ".py",
   "mimetype": "text/x-python",
   "name": "python",
   "nbconvert_exporter": "python",
   "pygments_lexer": "ipython3",
   "version": "3.10.9"
  }
 },
 "nbformat": 4,
 "nbformat_minor": 5
}
